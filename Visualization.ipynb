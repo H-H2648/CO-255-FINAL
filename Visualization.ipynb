{
 "cells": [
  {
   "cell_type": "code",
   "execution_count": 1,
   "metadata": {},
   "outputs": [],
   "source": [
    "import pandas as pd\n",
    "import matplotlib.pyplot as plt\n",
    "import numpy as np\n",
    "%matplotlib inline"
   ]
  },
  {
   "cell_type": "code",
   "execution_count": 2,
   "metadata": {},
   "outputs": [],
   "source": [
    "model1Df_1 = pd.read_csv('Model1_IP_1.csv')\n",
    "model1Df_2 = pd.read_csv('Model1_IP_2.csv')\n",
    "model1Df_3 = pd.read_csv('Model1_IP_3.csv')\n",
    "model1Df = pd.concat([model1Df_1, model1Df_2, model1Df_3])"
   ]
  },
  {
   "cell_type": "code",
   "execution_count": 3,
   "metadata": {},
   "outputs": [
    {
     "data": {
      "text/html": [
       "<div>\n",
       "<style scoped>\n",
       "    .dataframe tbody tr th:only-of-type {\n",
       "        vertical-align: middle;\n",
       "    }\n",
       "\n",
       "    .dataframe tbody tr th {\n",
       "        vertical-align: top;\n",
       "    }\n",
       "\n",
       "    .dataframe thead th {\n",
       "        text-align: right;\n",
       "    }\n",
       "</style>\n",
       "<table border=\"1\" class=\"dataframe\">\n",
       "  <thead>\n",
       "    <tr style=\"text-align: right;\">\n",
       "      <th></th>\n",
       "      <th>Unnamed: 0</th>\n",
       "      <th>N</th>\n",
       "      <th>Factor</th>\n",
       "      <th>Is Correct</th>\n",
       "      <th>Is Larger Factor</th>\n",
       "      <th>Num Vars</th>\n",
       "      <th>Num Integer Vars</th>\n",
       "      <th>Num Binary Vars</th>\n",
       "      <th>Num Constraints</th>\n",
       "      <th>Node Count</th>\n",
       "      <th>Simplex Iterations Count</th>\n",
       "      <th>Runtime</th>\n",
       "      <th>Is MIP</th>\n",
       "    </tr>\n",
       "  </thead>\n",
       "  <tbody>\n",
       "    <tr>\n",
       "      <th>0</th>\n",
       "      <td>0.0</td>\n",
       "      <td>1000000</td>\n",
       "      <td>2</td>\n",
       "      <td>1.0</td>\n",
       "      <td>1.0</td>\n",
       "      <td>41</td>\n",
       "      <td>41</td>\n",
       "      <td>20</td>\n",
       "      <td>83</td>\n",
       "      <td>0</td>\n",
       "      <td>0</td>\n",
       "      <td>0.001328</td>\n",
       "      <td>1</td>\n",
       "    </tr>\n",
       "    <tr>\n",
       "      <th>1</th>\n",
       "      <td>1.0</td>\n",
       "      <td>1000000</td>\n",
       "      <td>2</td>\n",
       "      <td>1.0</td>\n",
       "      <td>1.0</td>\n",
       "      <td>41</td>\n",
       "      <td>41</td>\n",
       "      <td>20</td>\n",
       "      <td>83</td>\n",
       "      <td>0</td>\n",
       "      <td>0</td>\n",
       "      <td>0.000000</td>\n",
       "      <td>1</td>\n",
       "    </tr>\n",
       "    <tr>\n",
       "      <th>2</th>\n",
       "      <td>2.0</td>\n",
       "      <td>1000000</td>\n",
       "      <td>2</td>\n",
       "      <td>1.0</td>\n",
       "      <td>1.0</td>\n",
       "      <td>41</td>\n",
       "      <td>41</td>\n",
       "      <td>20</td>\n",
       "      <td>83</td>\n",
       "      <td>0</td>\n",
       "      <td>0</td>\n",
       "      <td>0.000999</td>\n",
       "      <td>1</td>\n",
       "    </tr>\n",
       "    <tr>\n",
       "      <th>3</th>\n",
       "      <td>3.0</td>\n",
       "      <td>1000000</td>\n",
       "      <td>2</td>\n",
       "      <td>1.0</td>\n",
       "      <td>1.0</td>\n",
       "      <td>41</td>\n",
       "      <td>41</td>\n",
       "      <td>20</td>\n",
       "      <td>83</td>\n",
       "      <td>0</td>\n",
       "      <td>0</td>\n",
       "      <td>0.002140</td>\n",
       "      <td>1</td>\n",
       "    </tr>\n",
       "    <tr>\n",
       "      <th>4</th>\n",
       "      <td>4.0</td>\n",
       "      <td>1000000</td>\n",
       "      <td>2</td>\n",
       "      <td>1.0</td>\n",
       "      <td>1.0</td>\n",
       "      <td>41</td>\n",
       "      <td>41</td>\n",
       "      <td>20</td>\n",
       "      <td>83</td>\n",
       "      <td>0</td>\n",
       "      <td>0</td>\n",
       "      <td>0.000963</td>\n",
       "      <td>1</td>\n",
       "    </tr>\n",
       "    <tr>\n",
       "      <th>...</th>\n",
       "      <td>...</td>\n",
       "      <td>...</td>\n",
       "      <td>...</td>\n",
       "      <td>...</td>\n",
       "      <td>...</td>\n",
       "      <td>...</td>\n",
       "      <td>...</td>\n",
       "      <td>...</td>\n",
       "      <td>...</td>\n",
       "      <td>...</td>\n",
       "      <td>...</td>\n",
       "      <td>...</td>\n",
       "      <td>...</td>\n",
       "    </tr>\n",
       "    <tr>\n",
       "      <th>995</th>\n",
       "      <td>NaN</td>\n",
       "      <td>1000300</td>\n",
       "      <td>2</td>\n",
       "      <td>1.0</td>\n",
       "      <td>1.0</td>\n",
       "      <td>41</td>\n",
       "      <td>41</td>\n",
       "      <td>20</td>\n",
       "      <td>83</td>\n",
       "      <td>0</td>\n",
       "      <td>0</td>\n",
       "      <td>0.000000</td>\n",
       "      <td>1</td>\n",
       "    </tr>\n",
       "    <tr>\n",
       "      <th>996</th>\n",
       "      <td>NaN</td>\n",
       "      <td>1000300</td>\n",
       "      <td>2</td>\n",
       "      <td>1.0</td>\n",
       "      <td>1.0</td>\n",
       "      <td>41</td>\n",
       "      <td>41</td>\n",
       "      <td>20</td>\n",
       "      <td>83</td>\n",
       "      <td>0</td>\n",
       "      <td>0</td>\n",
       "      <td>0.000000</td>\n",
       "      <td>1</td>\n",
       "    </tr>\n",
       "    <tr>\n",
       "      <th>997</th>\n",
       "      <td>NaN</td>\n",
       "      <td>1000300</td>\n",
       "      <td>2</td>\n",
       "      <td>1.0</td>\n",
       "      <td>1.0</td>\n",
       "      <td>41</td>\n",
       "      <td>41</td>\n",
       "      <td>20</td>\n",
       "      <td>83</td>\n",
       "      <td>0</td>\n",
       "      <td>0</td>\n",
       "      <td>0.008581</td>\n",
       "      <td>1</td>\n",
       "    </tr>\n",
       "    <tr>\n",
       "      <th>998</th>\n",
       "      <td>NaN</td>\n",
       "      <td>1000300</td>\n",
       "      <td>2</td>\n",
       "      <td>1.0</td>\n",
       "      <td>1.0</td>\n",
       "      <td>41</td>\n",
       "      <td>41</td>\n",
       "      <td>20</td>\n",
       "      <td>83</td>\n",
       "      <td>0</td>\n",
       "      <td>0</td>\n",
       "      <td>0.001032</td>\n",
       "      <td>1</td>\n",
       "    </tr>\n",
       "    <tr>\n",
       "      <th>999</th>\n",
       "      <td>NaN</td>\n",
       "      <td>1000300</td>\n",
       "      <td>2</td>\n",
       "      <td>1.0</td>\n",
       "      <td>1.0</td>\n",
       "      <td>41</td>\n",
       "      <td>41</td>\n",
       "      <td>20</td>\n",
       "      <td>83</td>\n",
       "      <td>0</td>\n",
       "      <td>0</td>\n",
       "      <td>0.001547</td>\n",
       "      <td>1</td>\n",
       "    </tr>\n",
       "  </tbody>\n",
       "</table>\n",
       "<p>3010 rows × 13 columns</p>\n",
       "</div>"
      ],
      "text/plain": [
       "     Unnamed: 0        N Factor  Is Correct  Is Larger Factor  Num Vars  \\\n",
       "0           0.0  1000000      2         1.0               1.0        41   \n",
       "1           1.0  1000000      2         1.0               1.0        41   \n",
       "2           2.0  1000000      2         1.0               1.0        41   \n",
       "3           3.0  1000000      2         1.0               1.0        41   \n",
       "4           4.0  1000000      2         1.0               1.0        41   \n",
       "..          ...      ...    ...         ...               ...       ...   \n",
       "995         NaN  1000300      2         1.0               1.0        41   \n",
       "996         NaN  1000300      2         1.0               1.0        41   \n",
       "997         NaN  1000300      2         1.0               1.0        41   \n",
       "998         NaN  1000300      2         1.0               1.0        41   \n",
       "999         NaN  1000300      2         1.0               1.0        41   \n",
       "\n",
       "     Num Integer Vars  Num Binary Vars  Num Constraints  Node Count  \\\n",
       "0                  41               20               83           0   \n",
       "1                  41               20               83           0   \n",
       "2                  41               20               83           0   \n",
       "3                  41               20               83           0   \n",
       "4                  41               20               83           0   \n",
       "..                ...              ...              ...         ...   \n",
       "995                41               20               83           0   \n",
       "996                41               20               83           0   \n",
       "997                41               20               83           0   \n",
       "998                41               20               83           0   \n",
       "999                41               20               83           0   \n",
       "\n",
       "     Simplex Iterations Count   Runtime  Is MIP  \n",
       "0                           0  0.001328       1  \n",
       "1                           0  0.000000       1  \n",
       "2                           0  0.000999       1  \n",
       "3                           0  0.002140       1  \n",
       "4                           0  0.000963       1  \n",
       "..                        ...       ...     ...  \n",
       "995                         0  0.000000       1  \n",
       "996                         0  0.000000       1  \n",
       "997                         0  0.008581       1  \n",
       "998                         0  0.001032       1  \n",
       "999                         0  0.001547       1  \n",
       "\n",
       "[3010 rows x 13 columns]"
      ]
     },
     "execution_count": 3,
     "metadata": {},
     "output_type": "execute_result"
    }
   ],
   "source": [
    "model1Df"
   ]
  },
  {
   "cell_type": "code",
   "execution_count": 4,
   "metadata": {},
   "outputs": [],
   "source": [
    "correct_1 = int(len(model1Df[model1Df['Is Correct'] != 0.0])/10)"
   ]
  },
  {
   "cell_type": "code",
   "execution_count": 5,
   "metadata": {},
   "outputs": [],
   "source": [
    "incorrect_1 = int(len(model1Df[model1Df['Is Correct'] == 0.0])/10)"
   ]
  },
  {
   "cell_type": "code",
   "execution_count": 6,
   "metadata": {},
   "outputs": [
    {
     "data": {
      "image/png": "[encoded data removed]",
      "text/plain": [
       "<Figure size 432x288 with 1 Axes>"
      ]
     },
     "metadata": {
      "needs_background": "light"
     },
     "output_type": "display_data"
    }
   ],
   "source": [
    "results = ['correct', 'incorrect']\n",
    "results_count = [correct_1, incorrect_1]\n",
    "plt.bar(results, results_count, color = [\"blue\", \"red\"])\n",
    "for ii in range(2):\n",
    "    plt.annotate(results_count[ii], (ii,  results_count[ii]))\n",
    "plt.xlabel('Accuracy')\n",
    "plt.ylabel('Count')\n",
    "plt.savefig('images/accuracy_model_1.png')"
   ]
  },
  {
   "cell_type": "code",
   "execution_count": 15,
   "metadata": {},
   "outputs": [
    {
     "name": "stdout",
     "output_type": "stream",
     "text": [
      "0.01272990330910299\n"
     ]
    }
   ],
   "source": [
    "print(model1Df['Runtime'].mean())"
   ]
  },
  {
   "cell_type": "code",
   "execution_count": 7,
   "metadata": {},
   "outputs": [],
   "source": [
    "model1_improvedDf_1 = pd.read_csv('Model1Improved_IP_1.csv')\n",
    "model1_improvedDf_2 = pd.read_csv('Model1Improved_IP_2.csv')\n",
    "model1_improvedDf_3 = pd.read_csv('Model1Improved_IP_3.csv')\n",
    "model1_improvedDf = pd.concat([model1_improvedDf_1, model1_improvedDf_2, model1_improvedDf_3])"
   ]
  },
  {
   "cell_type": "code",
   "execution_count": 8,
   "metadata": {},
   "outputs": [],
   "source": [
    "incorrect_improved_1 =int(len(model1_improvedDf[model1_improvedDf['Is Correct'] == 0.0])/10)\n",
    "correct_improved_1 = int(len(model1_improvedDf[model1_improvedDf['Is Correct'] != 0.0])/10)"
   ]
  },
  {
   "cell_type": "code",
   "execution_count": 9,
   "metadata": {},
   "outputs": [
    {
     "data": {
      "image/png": "[encoded data removed]",
      "text/plain": [
       "<Figure size 432x288 with 1 Axes>"
      ]
     },
     "metadata": {
      "needs_background": "light"
     },
     "output_type": "display_data"
    }
   ],
   "source": [
    "results = ['correct', 'incorrect']\n",
    "results_count = [correct_improved_1, incorrect_improved_1]\n",
    "plt.bar(results, results_count, color = [\"blue\", \"red\"])\n",
    "for ii in range(2):\n",
    "    plt.annotate(results_count[ii], (ii,  results_count[ii]))\n",
    "plt.xlabel('Accuracy')\n",
    "plt.ylabel('Count')\n",
    "plt.savefig('images/accuracy_model_1_improved.png')"
   ]
  },
  {
   "cell_type": "code",
   "execution_count": 16,
   "metadata": {},
   "outputs": [
    {
     "name": "stdout",
     "output_type": "stream",
     "text": [
      "0.01898255207179402\n"
     ]
    }
   ],
   "source": [
    "print(model1_improvedDf['Runtime'].mean())"
   ]
  },
  {
   "cell_type": "code",
   "execution_count": 10,
   "metadata": {},
   "outputs": [],
   "source": [
    "model2Df_1 = pd.read_csv('Model2_IP_1.csv')\n",
    "model2Df_2 = pd.read_csv('Model2_IP_2.csv')\n",
    "model2Df_3 = pd.read_csv('Model2_IP_3.csv')\n",
    "model2Df_4 = pd.read_csv('Model2_IP_4.csv')\n",
    "model2Df_5 = pd.read_csv('Model2_IP_5.csv')\n",
    "model2Df = pd.concat([model2Df_1, model2Df_2, model2Df_3, model2Df_4, model2Df_5])"
   ]
  },
  {
   "cell_type": "code",
   "execution_count": 11,
   "metadata": {},
   "outputs": [],
   "source": [
    "incorrect_2 =int(len(model2Df[model2Df['Is Correct'] == 0.0])/10)\n",
    "correct_2 = int(len(model2Df[model2Df['Is Correct'] != 0.0])/10)"
   ]
  },
  {
   "cell_type": "code",
   "execution_count": 13,
   "metadata": {},
   "outputs": [
    {
     "data": {
      "image/png": "[encoded data removed]",
      "text/plain": [
       "<Figure size 432x288 with 1 Axes>"
      ]
     },
     "metadata": {
      "needs_background": "light"
     },
     "output_type": "display_data"
    }
   ],
   "source": [
    "results = ['correct', 'incorrect']\n",
    "results_count = [correct_2, incorrect_2]\n",
    "plt.bar(results, results_count, color = [\"blue\", \"red\"])\n",
    "for ii in range(2):\n",
    "    plt.annotate(results_count[ii], (ii,  results_count[ii]))\n",
    "plt.xlabel('Accuracy')\n",
    "plt.ylabel('Count')\n",
    "plt.savefig('images/accuracy_model_2.png')"
   ]
  },
  {
   "cell_type": "code",
   "execution_count": 17,
   "metadata": {},
   "outputs": [
    {
     "name": "stdout",
     "output_type": "stream",
     "text": [
      "0.8370907355883721\n"
     ]
    }
   ],
   "source": [
    "print(model2Df['Runtime'].mean())"
   ]
  },
  {
   "cell_type": "code",
   "execution_count": 18,
   "metadata": {},
   "outputs": [],
   "source": [
    "model3Df_1 = pd.read_csv('Model3_IP_1.csv')\n",
    "model3Df_2 = pd.read_csv('Model3_IP_2.csv')\n",
    "model3Df_3 = pd.read_csv('Model3_IP_3.csv')\n",
    "model3Df_4 = pd.read_csv('Model3_IP_4.csv')\n",
    "model3Df = pd.concat([model3Df_1, model3Df_2, model3Df_3, model3Df_4])"
   ]
  },
  {
   "cell_type": "code",
   "execution_count": 19,
   "metadata": {},
   "outputs": [],
   "source": [
    "incorrect_3 =int(len(model3Df[model3Df['Is Correct'] == 0.0])/10)\n",
    "correct_3 = int(len(model3Df[model3Df['Is Correct'] != 0.0])/10)"
   ]
  },
  {
   "cell_type": "code",
   "execution_count": 20,
   "metadata": {},
   "outputs": [
    {
     "data": {
      "image/png": "[encoded data removed]",
      "text/plain": [
       "<Figure size 432x288 with 1 Axes>"
      ]
     },
     "metadata": {
      "needs_background": "light"
     },
     "output_type": "display_data"
    }
   ],
   "source": [
    "results = ['correct', 'incorrect']\n",
    "results_count = [correct_3, incorrect_3]\n",
    "plt.bar(results, results_count, color = [\"blue\", \"red\"])\n",
    "for ii in range(2):\n",
    "    plt.annotate(results_count[ii], (ii,  results_count[ii]))\n",
    "plt.xlabel('Accuracy')\n",
    "plt.ylabel('Count')\n",
    "plt.savefig('images/accuracy_model_3.png')"
   ]
  },
  {
   "cell_type": "code",
   "execution_count": 21,
   "metadata": {},
   "outputs": [
    {
     "name": "stdout",
     "output_type": "stream",
     "text": [
      "1.146279950297345\n"
     ]
    }
   ],
   "source": [
    "print(model3Df['Runtime'].mean())"
   ]
  },
  {
   "cell_type": "code",
   "execution_count": 27,
   "metadata": {},
   "outputs": [
    {
     "data": {
      "image/png": "[encoded data removed]",
      "text/plain": [
       "<Figure size 720x360 with 1 Axes>"
      ]
     },
     "metadata": {
      "needs_background": "light"
     },
     "output_type": "display_data"
    }
   ],
   "source": [
    "results = ['One Factor Binary', 'Both Factors Binary', 'Karatsuba']\n",
    "correct_count = [correct_1, correct_2, correct_3]\n",
    "incorrect_count = [incorrect_1, incorrect_2, incorrect_3]\n",
    "x = np.arange(len(results))\n",
    "width = 0.35 \n",
    "f, ax = plt.subplots(figsize=(10,5))\n",
    "rects1 = ax.bar(x - width/2, correct_count, width, label='Correct')\n",
    "rects2 = ax.bar(x + width/2, incorrect_count, width, label='Incorrect')\n",
    "\n",
    "ax.set_ylabel('Count')\n",
    "ax.set_xticks(x)\n",
    "ax.set_xticklabels(results)\n",
    "ax.legend()\n",
    "plt.xlabel('Accuracy')\n",
    "#plt.ylabel('Count')\n",
    "plt.savefig('images/total.png')"
   ]
  },
  {
   "cell_type": "code",
   "execution_count": null,
   "metadata": {},
   "outputs": [],
   "source": []
  }
 ],
 "metadata": {
  "kernelspec": {
   "display_name": "Python 3",
   "language": "python",
   "name": "python3"
  },
  "language_info": {
   "codemirror_mode": {
    "name": "ipython",
    "version": 3
   },
   "file_extension": ".py",
   "mimetype": "text/x-python",
   "name": "python",
   "nbconvert_exporter": "python",
   "pygments_lexer": "ipython3",
   "version": "3.8.8"
  }
 },
 "nbformat": 4,
 "nbformat_minor": 4
}
